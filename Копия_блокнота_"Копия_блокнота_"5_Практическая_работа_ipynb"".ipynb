{
  "nbformat": 4,
  "nbformat_minor": 0,
  "metadata": {
    "colab": {
      "provenance": [],
      "toc_visible": true,
      "collapsed_sections": [
        "4Xl9TmXcY-sX"
      ],
      "include_colab_link": true
    },
    "kernelspec": {
      "name": "python3",
      "display_name": "Python 3"
    },
    "language_info": {
      "name": "python"
    }
  },
  "cells": [
    {
      "cell_type": "markdown",
      "metadata": {
        "id": "view-in-github",
        "colab_type": "text"
      },
      "source": [
        "<a href=\"https://colab.research.google.com/github/repatoon/sergin/blob/main/%D0%9A%D0%BE%D0%BF%D0%B8%D1%8F_%D0%B1%D0%BB%D0%BE%D0%BA%D0%BD%D0%BE%D1%82%D0%B0_%22%D0%9A%D0%BE%D0%BF%D0%B8%D1%8F_%D0%B1%D0%BB%D0%BE%D0%BA%D0%BD%D0%BE%D1%82%D0%B0_%225_%D0%9F%D1%80%D0%B0%D0%BA%D1%82%D0%B8%D1%87%D0%B5%D1%81%D0%BA%D0%B0%D1%8F_%D1%80%D0%B0%D0%B1%D0%BE%D1%82%D0%B0_ipynb%22%22.ipynb\" target=\"_parent\"><img src=\"https://colab.research.google.com/assets/colab-badge.svg\" alt=\"Open In Colab\"/></a>"
      ]
    },
    {
      "cell_type": "markdown",
      "source": [
        "# Easy tasks"
      ],
      "metadata": {
        "id": "oBx3AWXjHKkd"
      }
    },
    {
      "cell_type": "markdown",
      "source": [
        "Взгляните на приведенное ниже определение функции `my_function`:\n",
        "```\n",
        "def my_function(a, b, c):\n",
        "  d = (a + c) / b\n",
        "  print(d)\n",
        "```\n",
        "Напишите инструкцию, которая вызывает эту функцию и применяет именованные\n",
        "аргументы для передачи 3 в `a`, 5 в `b` и 7 в `c`."
      ],
      "metadata": {
        "id": "wuQRsR1iWz5K"
      }
    },
    {
      "cell_type": "code",
      "source": [
        "def my_function(a, b, c):\n",
        "  d = (a + c) / b\n",
        "  print(d)\n",
        "my_function(3, 5, 7)\n"
      ],
      "metadata": {
        "id": "5ggIFWKOHDxC",
        "colab": {
          "base_uri": "https://localhost:8080/"
        },
        "outputId": "fca58696-8b31-4285-b67b-d3b2b71e165c"
      },
      "execution_count": null,
      "outputs": [
        {
          "output_type": "stream",
          "name": "stdout",
          "text": [
            "2.0\n"
          ]
        }
      ]
    },
    {
      "cell_type": "markdown",
      "source": [
        "Программа содержит приведенное ниже определение функции:\n",
        "```\n",
        "def cube(n):\n",
        "  return n * n * n\n",
        "```\n",
        "Напишите инструкцию, которая передает значение 4 в эту функцию и присваивает возвращаемое ею значение переменной `result`."
      ],
      "metadata": {
        "id": "Uy9x4h8mUf7H"
      }
    },
    {
      "cell_type": "code",
      "source": [
        "def cube(n):\n",
        "  return n * n * n\n",
        "  result=cube(n)\n",
        "cube(4)"
      ],
      "metadata": {
        "id": "sFm-GzuHUfbn",
        "colab": {
          "base_uri": "https://localhost:8080/"
        },
        "outputId": "62ab561a-e071-41aa-e4e9-1c14fcdee036"
      },
      "execution_count": null,
      "outputs": [
        {
          "output_type": "execute_result",
          "data": {
            "text/plain": [
              "64"
            ]
          },
          "metadata": {},
          "execution_count": 2
        }
      ]
    },
    {
      "cell_type": "markdown",
      "source": [
        "Приведенная ниже инструкция вызывает функцию `plus_two`, возвращающую значение, кото­рое увеличивает аргумент на 2. (Допустим, что переменная `number` ссылается на вещест­венное значение с типом `float`.) Напишите код для этой функции.\n",
        "```\n",
        "result = plus_two(number)\n",
        "```"
      ],
      "metadata": {
        "id": "e1scII2mYG88"
      }
    },
    {
      "cell_type": "code",
      "source": [
        "def plus_two(number) :\n",
        "  return number + 2\n",
        "\n",
        "plus_two(2.7)"
      ],
      "metadata": {
        "id": "8QxiQc5JUxsZ",
        "colab": {
          "base_uri": "https://localhost:8080/"
        },
        "outputId": "be7865fd-2838-4582-c150-9fa20df2bc28"
      },
      "execution_count": null,
      "outputs": [
        {
          "output_type": "execute_result",
          "data": {
            "text/plain": [
              "4.7"
            ]
          },
          "metadata": {},
          "execution_count": 3
        }
      ]
    },
    {
      "cell_type": "markdown",
      "source": [
        "Напишите функцию с именем `get_plus_five`. Эта функция должна принимать аргумент и по­казывать результат суммы аргумента и числа 5.\n",
        "\n"
      ],
      "metadata": {
        "id": "Ew5ZkttGWjK3"
      }
    },
    {
      "cell_type": "code",
      "source": [
        "def get_plus_five(number):\n",
        "  result = number + 5\n",
        "  print(f'Результат: {result}')\n",
        "\n",
        "\n",
        "number=2.75\n",
        "get_plus_five(number)\n"
      ],
      "metadata": {
        "id": "3YvU98p_YGbl",
        "colab": {
          "base_uri": "https://localhost:8080/"
        },
        "outputId": "67f3b295-546e-4648-c7e5-64869b25590b"
      },
      "execution_count": null,
      "outputs": [
        {
          "output_type": "stream",
          "name": "stdout",
          "text": [
            "Результат: 7.75\n"
          ]
        }
      ]
    },
    {
      "cell_type": "markdown",
      "source": [
        "Напишите функцию `get_favourite_color`, которая просит пользователя ввести свой любимый цвет и его же возвращает."
      ],
      "metadata": {
        "id": "CEa5gFK_U2oS"
      }
    },
    {
      "cell_type": "code",
      "source": [
        "def get_favourite_color():\n",
        "  color=input('Введите ваш любимый цвет: ')\n",
        "  return color\n",
        "\n",
        "\n",
        "cvet = get_favourite_color()\n",
        "print(f'Ваш любимый цвет: {cvet}')"
      ],
      "metadata": {
        "id": "uNjjywx7U_2l",
        "colab": {
          "base_uri": "https://localhost:8080/"
        },
        "outputId": "d48b9d05-2514-4add-8737-766b4a767194"
      },
      "execution_count": null,
      "outputs": [
        {
          "output_type": "stream",
          "name": "stdout",
          "text": [
            "Введите ваш любимый цвет: purple\n",
            "Ваш любимый цвет: purple\n"
          ]
        }
      ]
    },
    {
      "cell_type": "markdown",
      "source": [
        "# More tasks."
      ],
      "metadata": {
        "id": "4Xl9TmXcY-sX"
      }
    },
    {
      "cell_type": "markdown",
      "source": [
        "*1 балл*\n",
        "\n",
        "**Футы в дюймы.** Один фут равняется 12 дюймам. Напишите функцию, которая в качестве аргумента принимает количество футов и возвращает количество дюймов в этом количестве футов. Примените эту функцию в программе, которая пред­лагает пользователю ввести количество футов и затем показывает количество дюймов в этом количестве футов."
      ],
      "metadata": {
        "id": "MTcphIgSXusv"
      }
    },
    {
      "cell_type": "code",
      "source": [
        "def foots_to_inches(foots) :\n",
        "  inches = foots * 12\n",
        "  return inches\n",
        "\n",
        "foots=float(input(\"Введите кол-во футов: \"))\n",
        "foots_to_inches(foots)"
      ],
      "metadata": {
        "id": "E3opt21NZOVw"
      },
      "execution_count": null,
      "outputs": []
    },
    {
      "cell_type": "markdown",
      "source": [
        "*1 балл*\n",
        "\n",
        "**Максимальное из двух значений.** Напишите функцию, которая в качестве аргу­ментов принимает два целочисленных значения и возвращает значение, которое являет­ся большим из двух. Например, если в качестве аргументов переданы 7 и 12, то функция должна вернуть 12. Примените функцию в программе, которая предлагает пользователю ввести два целочисленных значения. Программа должна показать большее значение из двух."
      ],
      "metadata": {
        "id": "NDACbRPiYPco"
      }
    },
    {
      "cell_type": "code",
      "source": [
        "def max_of_two(num1, num2):\n",
        "  if num1 > num2:\n",
        "    return num1\n",
        "  else:\n",
        "    return num2\n",
        "\n",
        "\n",
        "num1 = int(input(\"Введите число 1: \"))\n",
        "num2 = int(input(\"Введите число 2: \"))\n",
        "max_of_two(num1, num2)\n"
      ],
      "metadata": {
        "id": "zEjh6jzuYU_l"
      },
      "execution_count": null,
      "outputs": []
    },
    {
      "cell_type": "markdown",
      "source": [
        "*2 балла*\n",
        "\n",
        "**Средний балл и его уровень.** Напишите программу, которая просит пользователя вве­сти пять экзаменационных оценок (каждая оценка в диапозоне от 1 до 100 баллов). Программа должна показать буквенный уровень оценки для каждой оценки и средний балл. Напишите в программе приведенные ниже функции:\n",
        "- calc_average - функция должна принимать в качестве аргументов пять оценок и возвращать средний балл;\n",
        "- determine_grade - функция должна принимать в качестве аргумента оценку и воз­вращать буквенный уровень оценки, опираясь на следующую классификацию:\n",
        "  - 90 и выше – уровень А;\n",
        "  - 80-89 – уровень B;\n",
        "  - 70-79 – уровень С;\n",
        "  - 60-69 – уровень D;\n",
        "  - ниже 60 – уровень F."
      ],
      "metadata": {
        "id": "3JyIe-HSYfY-"
      }
    },
    {
      "cell_type": "code",
      "source": [],
      "metadata": {
        "id": "1Y7roCw0A40V"
      },
      "execution_count": null,
      "outputs": []
    },
    {
      "cell_type": "markdown",
      "source": [
        "*3 балла*\n",
        "\n",
        "**Простые числа**. Простое число - это число, которое делится без остатка на само себя и 1. Например, число 5 является простым, потому что оно делится без остатка только на 1 и 5. Однако число 6 не является простым, потому что оно делится без остатка на 1, 2, 3 и 6.\n",
        "\n",
        "Напишите булеву функцию is_prime, которая в качестве аргумента принимает целое число и возвращает истину, если аргумент является простым числом, либо ложь в про­тивном случае.\n",
        "\n",
        "Напишите программу, которая показывает все простые числа от 1 до 100. Программа должна иметь цикл, который вызывает функцию is_prime."
      ],
      "metadata": {
        "id": "lG1dGUABaBSh"
      }
    },
    {
      "cell_type": "code",
      "source": [
        "def is_prime(num):\n",
        "    if num <= 1:\n",
        "        return False\n",
        "    for i in range(2, num):\n",
        "        if num % i == 0:\n",
        "            return False\n",
        "    return True\n",
        "\n",
        "for number in range(1, 101):\n",
        "    if is_prime(number):\n",
        "        print(number)\n"
      ],
      "metadata": {
        "id": "KXBG-RrkaXng",
        "colab": {
          "base_uri": "https://localhost:8080/"
        },
        "outputId": "8a61af7d-a3f5-43c1-dc5d-6569c4a68785"
      },
      "execution_count": null,
      "outputs": [
        {
          "output_type": "stream",
          "name": "stdout",
          "text": [
            "2\n",
            "3\n",
            "5\n",
            "7\n",
            "11\n",
            "13\n",
            "17\n",
            "19\n",
            "23\n",
            "29\n",
            "31\n",
            "37\n",
            "41\n",
            "43\n",
            "47\n",
            "53\n",
            "59\n",
            "61\n",
            "67\n",
            "71\n",
            "73\n",
            "79\n",
            "83\n",
            "89\n",
            "97\n"
          ]
        }
      ]
    }
  ]
}